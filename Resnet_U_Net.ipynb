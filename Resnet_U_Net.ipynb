{
 "cells": [
  {
   "cell_type": "markdown",
   "metadata": {},
   "source": [
    "# Using the Segmentation Models Package\n",
    "https://www.kaggle.com/cdeotte/keras-unet-with-eda"
   ]
  },
  {
   "cell_type": "code",
   "execution_count": 1,
   "metadata": {},
   "outputs": [
    {
     "name": "stderr",
     "output_type": "stream",
     "text": [
      "Using TensorFlow backend.\n"
     ]
    }
   ],
   "source": [
    "from keras_tqdm import TQDMNotebookCallback"
   ]
  },
  {
   "cell_type": "code",
   "execution_count": 2,
   "metadata": {},
   "outputs": [],
   "source": [
    "base_dir = '/data/severstal-steel-defect-detection/'"
   ]
  },
  {
   "cell_type": "code",
   "execution_count": 3,
   "metadata": {},
   "outputs": [
    {
     "data": {
      "text/html": [
       "<div>\n",
       "<style scoped>\n",
       "    .dataframe tbody tr th:only-of-type {\n",
       "        vertical-align: middle;\n",
       "    }\n",
       "\n",
       "    .dataframe tbody tr th {\n",
       "        vertical-align: top;\n",
       "    }\n",
       "\n",
       "    .dataframe thead th {\n",
       "        text-align: right;\n",
       "    }\n",
       "</style>\n",
       "<table border=\"1\" class=\"dataframe\">\n",
       "  <thead>\n",
       "    <tr style=\"text-align: right;\">\n",
       "      <th></th>\n",
       "      <th>ImageId</th>\n",
       "      <th>e1</th>\n",
       "      <th>e2</th>\n",
       "      <th>e3</th>\n",
       "      <th>e4</th>\n",
       "      <th>count</th>\n",
       "    </tr>\n",
       "  </thead>\n",
       "  <tbody>\n",
       "    <tr>\n",
       "      <th>0</th>\n",
       "      <td>0002cc93b.jpg</td>\n",
       "      <td>29102 12 29346 24 29602 24 29858 24 30114 24 3...</td>\n",
       "      <td></td>\n",
       "      <td></td>\n",
       "      <td></td>\n",
       "      <td>1</td>\n",
       "    </tr>\n",
       "    <tr>\n",
       "      <th>1</th>\n",
       "      <td>00031f466.jpg</td>\n",
       "      <td></td>\n",
       "      <td></td>\n",
       "      <td></td>\n",
       "      <td></td>\n",
       "      <td>0</td>\n",
       "    </tr>\n",
       "    <tr>\n",
       "      <th>2</th>\n",
       "      <td>000418bfc.jpg</td>\n",
       "      <td></td>\n",
       "      <td></td>\n",
       "      <td></td>\n",
       "      <td></td>\n",
       "      <td>0</td>\n",
       "    </tr>\n",
       "    <tr>\n",
       "      <th>3</th>\n",
       "      <td>000789191.jpg</td>\n",
       "      <td></td>\n",
       "      <td></td>\n",
       "      <td></td>\n",
       "      <td></td>\n",
       "      <td>0</td>\n",
       "    </tr>\n",
       "    <tr>\n",
       "      <th>4</th>\n",
       "      <td>0007a71bf.jpg</td>\n",
       "      <td></td>\n",
       "      <td></td>\n",
       "      <td>18661 28 18863 82 19091 110 19347 110 19603 11...</td>\n",
       "      <td></td>\n",
       "      <td>1</td>\n",
       "    </tr>\n",
       "  </tbody>\n",
       "</table>\n",
       "</div>"
      ],
      "text/plain": [
       "         ImageId                                                 e1 e2  \\\n",
       "0  0002cc93b.jpg  29102 12 29346 24 29602 24 29858 24 30114 24 3...      \n",
       "1  00031f466.jpg                                                         \n",
       "2  000418bfc.jpg                                                         \n",
       "3  000789191.jpg                                                         \n",
       "4  0007a71bf.jpg                                                         \n",
       "\n",
       "                                                  e3 e4  count  \n",
       "0                                                            1  \n",
       "1                                                            0  \n",
       "2                                                            0  \n",
       "3                                                            0  \n",
       "4  18661 28 18863 82 19091 110 19347 110 19603 11...         1  "
      ]
     },
     "execution_count": 3,
     "metadata": {},
     "output_type": "execute_result"
    }
   ],
   "source": [
    "import numpy as np, pandas as pd, os, gc\n",
    "import matplotlib.pyplot as plt, time\n",
    "from PIL import Image \n",
    "import warnings\n",
    "warnings.filterwarnings(\"ignore\")\n",
    "\n",
    "path = base_dir\n",
    "train = pd.read_csv(path + 'train.csv')\n",
    "\n",
    "# RESTRUCTURE TRAIN DATAFRAME\n",
    "train['ImageId'] = train['ImageId_ClassId'].map(lambda x: x.split('.')[0]+'.jpg')\n",
    "train2 = pd.DataFrame({'ImageId':train['ImageId'][::4]})\n",
    "train2['e1'] = train['EncodedPixels'][::4].values\n",
    "train2['e2'] = train['EncodedPixels'][1::4].values\n",
    "train2['e3'] = train['EncodedPixels'][2::4].values\n",
    "train2['e4'] = train['EncodedPixels'][3::4].values\n",
    "train2.reset_index(inplace=True,drop=True)\n",
    "train2.fillna('',inplace=True); \n",
    "train2['count'] = np.sum(train2.iloc[:,1:]!='',axis=1).values\n",
    "train2.head()"
   ]
  },
  {
   "cell_type": "code",
   "execution_count": 4,
   "metadata": {},
   "outputs": [],
   "source": [
    "from tqdm import tqdm"
   ]
  },
  {
   "cell_type": "code",
   "execution_count": 5,
   "metadata": {},
   "outputs": [],
   "source": [
    "# https://www.kaggle.com/ateplyuk/pytorch-starter-u-net-resnet\n",
    "# https://stanford.edu/~shervine/blog/keras-how-to-generate-data-on-the-fly\n",
    "import keras\n",
    "\n",
    "class DataGenerator(keras.utils.Sequence):\n",
    "    def __init__(self, df, batch_size = 16, subset=\"train\", shuffle=False, \n",
    "                 preprocess=None, info={}):\n",
    "        super().__init__()\n",
    "        self.df = df\n",
    "        self.shuffle = shuffle\n",
    "        self.subset = subset\n",
    "        self.batch_size = batch_size\n",
    "        self.preprocess = preprocess\n",
    "        self.info = info\n",
    "        \n",
    "        if self.subset == \"train\":\n",
    "            self.data_path = path + 'train_images/'\n",
    "        elif self.subset == \"test\":\n",
    "            self.data_path = path + 'test_images/'\n",
    "        self.on_epoch_end()\n",
    "\n",
    "    def __len__(self):\n",
    "        return int(np.floor(len(self.df) / self.batch_size))\n",
    "    \n",
    "    def on_epoch_end(self):\n",
    "        self.indexes = np.arange(len(self.df))\n",
    "        if self.shuffle == True:\n",
    "            np.random.shuffle(self.indexes)\n",
    "    \n",
    "    def __getitem__(self, index): \n",
    "        X = np.empty((self.batch_size,128,800,3),dtype=np.float32)\n",
    "        y = np.empty((self.batch_size,128,800,4),dtype=np.int8)\n",
    "        indexes = self.indexes[index*self.batch_size:(index+1)*self.batch_size]\n",
    "        for i,f in enumerate(self.df['ImageId'].iloc[indexes]):\n",
    "            self.info[index*self.batch_size+i]=f\n",
    "            X[i,] = Image.open(self.data_path + f).resize((800,128))\n",
    "            if self.subset == 'train': \n",
    "                for j in range(4):\n",
    "                    y[i,:,:,j] = rle2maskResize(self.df['e'+str(j+1)].iloc[indexes[i]])\n",
    "        if self.preprocess!=None: X = self.preprocess(X)\n",
    "        if self.subset == 'train': return X, y\n",
    "        else: return X"
   ]
  },
  {
   "cell_type": "code",
   "execution_count": 6,
   "metadata": {},
   "outputs": [],
   "source": [
    "# https://www.kaggle.com/titericz/building-and-visualizing-masks\n",
    "def rle2maskResize(rle):\n",
    "    # CONVERT RLE TO MASK \n",
    "    if (pd.isnull(rle))|(rle==''): \n",
    "        return np.zeros((128,800) ,dtype=np.uint8)\n",
    "    \n",
    "    height= 256\n",
    "    width = 1600\n",
    "    mask= np.zeros( width*height ,dtype=np.uint8)\n",
    "\n",
    "    array = np.asarray([int(x) for x in rle.split()])\n",
    "    starts = array[0::2]-1\n",
    "    lengths = array[1::2]    \n",
    "    for index, start in enumerate(starts):\n",
    "        mask[int(start):int(start+lengths[index])] = 1\n",
    "    \n",
    "    return mask.reshape( (height,width), order='F' )[::2,::2]\n",
    "\n",
    "def mask2contour(mask, width=3):\n",
    "    # CONVERT MASK TO ITS CONTOUR\n",
    "    w = mask.shape[1]\n",
    "    h = mask.shape[0]\n",
    "    mask2 = np.concatenate([mask[:,width:],np.zeros((h,width))],axis=1)\n",
    "    mask2 = np.logical_xor(mask,mask2)\n",
    "    mask3 = np.concatenate([mask[width:,:],np.zeros((width,w))],axis=0)\n",
    "    mask3 = np.logical_xor(mask,mask3)\n",
    "    return np.logical_or(mask2,mask3) \n",
    "\n",
    "def mask2pad(mask, pad=2):\n",
    "    # ENLARGE MASK TO INCLUDE MORE SPACE AROUND DEFECT\n",
    "    w = mask.shape[1]\n",
    "    h = mask.shape[0]\n",
    "    \n",
    "    # MASK UP\n",
    "    for k in range(1,pad,2):\n",
    "        temp = np.concatenate([mask[k:,:],np.zeros((k,w))],axis=0)\n",
    "        mask = np.logical_or(mask,temp)\n",
    "    # MASK DOWN\n",
    "    for k in range(1,pad,2):\n",
    "        temp = np.concatenate([np.zeros((k,w)),mask[:-k,:]],axis=0)\n",
    "        mask = np.logical_or(mask,temp)\n",
    "    # MASK LEFT\n",
    "    for k in range(1,pad,2):\n",
    "        temp = np.concatenate([mask[:,k:],np.zeros((h,k))],axis=1)\n",
    "        mask = np.logical_or(mask,temp)\n",
    "    # MASK RIGHT\n",
    "    for k in range(1,pad,2):\n",
    "        temp = np.concatenate([np.zeros((h,k)),mask[:,:-k]],axis=1)\n",
    "        mask = np.logical_or(mask,temp)\n",
    "    \n",
    "    return mask "
   ]
  },
  {
   "cell_type": "code",
   "execution_count": 7,
   "metadata": {},
   "outputs": [],
   "source": [
    "from keras import backend as K\n",
    "# https://www.kaggle.com/xhlulu/severstal-simple-keras-u-net-boilerplate\n",
    "\n",
    "# COMPETITION METRIC\n",
    "def dice_coef(y_true, y_pred, smooth=1):\n",
    "    y_true_f = K.flatten(y_true)\n",
    "    y_pred_f = K.flatten(y_pred)\n",
    "    intersection = K.sum(y_true_f * y_pred_f)\n",
    "    return (2. * intersection + smooth) / (K.sum(y_true_f) + K.sum(y_pred_f) + smooth)"
   ]
  },
  {
   "cell_type": "code",
   "execution_count": 8,
   "metadata": {},
   "outputs": [
    {
     "name": "stdout",
     "output_type": "stream",
     "text": [
      "WARNING:tensorflow:From /usr/local/lib/python3.5/dist-packages/tensorflow/python/framework/op_def_library.py:263: colocate_with (from tensorflow.python.framework.ops) is deprecated and will be removed in a future version.\n",
      "Instructions for updating:\n",
      "Colocations handled automatically by placer.\n"
     ]
    }
   ],
   "source": [
    "from segmentation_models import Unet\n",
    "from segmentation_models.backbones import get_preprocessing\n",
    "from keras.utils import multi_gpu_model\n",
    "import tensorflow as tf\n",
    "# LOAD UNET WITH PRETRAINING FROM IMAGENET\n",
    "\n",
    "with tf.device('/cpu:0'):\n",
    "    preprocess = get_preprocessing('resnet34') # for resnet, img = (img-110.0)/1.0\n",
    "    model = Unet('resnet34', input_shape=(128, 800, 3), classes=4, activation='sigmoid')\n",
    "    \n",
    "\n",
    "parallel_model = multi_gpu_model(model, gpus=8)\n",
    "parallel_model.compile(optimizer='adam', loss='binary_crossentropy', metrics=[dice_coef])\n",
    "\n",
    "del model\n",
    "\n",
    "model = parallel_model\n",
    "del parallel_model"
   ]
  },
  {
   "cell_type": "code",
   "execution_count": 9,
   "metadata": {},
   "outputs": [
    {
     "name": "stdout",
     "output_type": "stream",
     "text": [
      "\n"
     ]
    }
   ],
   "source": [
    "# TRAIN AND VALIDATE MODEL\n",
    "idx = int(0.8*len(train2)); print()\n",
    "train_batches = DataGenerator(train2.iloc[:idx],shuffle=True,preprocess=preprocess)\n",
    "valid_batches = DataGenerator(train2.iloc[idx:],preprocess=preprocess)"
   ]
  },
  {
   "cell_type": "code",
   "execution_count": 12,
   "metadata": {},
   "outputs": [
    {
     "name": "stdout",
     "output_type": "stream",
     "text": [
      "Epoch 1/30\n",
      "628/628 [==============================] - 151s 240ms/step - loss: 0.0294 - dice_coef: 0.1569 - val_loss: 0.0286 - val_dice_coef: 0.2069\n",
      "Epoch 2/30\n",
      "628/628 [==============================] - 146s 233ms/step - loss: 0.0237 - dice_coef: 0.2608 - val_loss: 0.0241 - val_dice_coef: 0.2790\n",
      "Epoch 3/30\n",
      "628/628 [==============================] - 148s 235ms/step - loss: 0.0206 - dice_coef: 0.3383 - val_loss: 0.0246 - val_dice_coef: 0.2906\n",
      "Epoch 4/30\n",
      "628/628 [==============================] - 148s 236ms/step - loss: 0.0191 - dice_coef: 0.3737 - val_loss: 0.0208 - val_dice_coef: 0.3491\n",
      "Epoch 5/30\n",
      "628/628 [==============================] - 149s 238ms/step - loss: 0.0176 - dice_coef: 0.4091 - val_loss: 0.0231 - val_dice_coef: 0.2601\n",
      "Epoch 6/30\n",
      "628/628 [==============================] - 149s 237ms/step - loss: 0.0163 - dice_coef: 0.4439 - val_loss: 0.0225 - val_dice_coef: 0.3174\n",
      "Epoch 7/30\n",
      "628/628 [==============================] - 147s 235ms/step - loss: 0.0155 - dice_coef: 0.4648 - val_loss: 0.0219 - val_dice_coef: 0.2915\n",
      "Epoch 8/30\n",
      "628/628 [==============================] - 147s 235ms/step - loss: 0.0148 - dice_coef: 0.4841 - val_loss: 0.0194 - val_dice_coef: 0.3786\n",
      "Epoch 9/30\n",
      "628/628 [==============================] - 148s 236ms/step - loss: 0.0141 - dice_coef: 0.4993 - val_loss: 0.0230 - val_dice_coef: 0.3530\n",
      "Epoch 10/30\n",
      "628/628 [==============================] - 148s 236ms/step - loss: 0.0135 - dice_coef: 0.5221 - val_loss: 0.0271 - val_dice_coef: 0.2836\n",
      "Epoch 11/30\n",
      "628/628 [==============================] - 148s 236ms/step - loss: 0.0140 - dice_coef: 0.5037 - val_loss: 0.0191 - val_dice_coef: 0.4002\n",
      "Epoch 12/30\n",
      "628/628 [==============================] - 146s 232ms/step - loss: 0.0131 - dice_coef: 0.5267 - val_loss: 0.0204 - val_dice_coef: 0.3505\n",
      "Epoch 13/30\n",
      "628/628 [==============================] - 148s 235ms/step - loss: 0.0127 - dice_coef: 0.5407 - val_loss: 0.0187 - val_dice_coef: 0.4014\n",
      "Epoch 14/30\n",
      "628/628 [==============================] - 147s 234ms/step - loss: 0.0124 - dice_coef: 0.5464 - val_loss: 0.0184 - val_dice_coef: 0.3892\n",
      "Epoch 15/30\n",
      "628/628 [==============================] - 146s 233ms/step - loss: 0.0121 - dice_coef: 0.5571 - val_loss: 0.0245 - val_dice_coef: 0.2584\n",
      "Epoch 16/30\n",
      "628/628 [==============================] - 148s 235ms/step - loss: 0.0115 - dice_coef: 0.5708 - val_loss: 0.0199 - val_dice_coef: 0.3771\n",
      "Epoch 17/30\n",
      "628/628 [==============================] - 148s 236ms/step - loss: 0.0109 - dice_coef: 0.5919 - val_loss: 0.0205 - val_dice_coef: 0.3869\n",
      "Epoch 18/30\n",
      "628/628 [==============================] - 146s 232ms/step - loss: 0.0110 - dice_coef: 0.5867 - val_loss: 0.0209 - val_dice_coef: 0.3618\n",
      "Epoch 19/30\n",
      "628/628 [==============================] - 148s 235ms/step - loss: 0.0107 - dice_coef: 0.6003 - val_loss: 0.0186 - val_dice_coef: 0.4343\n",
      "Epoch 20/30\n",
      "628/628 [==============================] - 148s 235ms/step - loss: 0.0104 - dice_coef: 0.6047 - val_loss: 0.0203 - val_dice_coef: 0.4376\n",
      "Epoch 21/30\n",
      "628/628 [==============================] - 146s 233ms/step - loss: 0.0101 - dice_coef: 0.6162 - val_loss: 0.0195 - val_dice_coef: 0.4358\n",
      "Epoch 22/30\n",
      "628/628 [==============================] - 148s 235ms/step - loss: 0.0094 - dice_coef: 0.6358 - val_loss: 0.0176 - val_dice_coef: 0.4452\n",
      "Epoch 23/30\n",
      "628/628 [==============================] - 148s 235ms/step - loss: 0.0096 - dice_coef: 0.6308 - val_loss: 0.0204 - val_dice_coef: 0.4368\n",
      "Epoch 24/30\n",
      "628/628 [==============================] - 147s 233ms/step - loss: 0.0094 - dice_coef: 0.6373 - val_loss: 0.0202 - val_dice_coef: 0.3885\n",
      "Epoch 25/30\n",
      "628/628 [==============================] - 146s 232ms/step - loss: 0.0088 - dice_coef: 0.6549 - val_loss: 0.0178 - val_dice_coef: 0.5162\n",
      "Epoch 26/30\n",
      "628/628 [==============================] - 146s 232ms/step - loss: 0.0091 - dice_coef: 0.6483 - val_loss: 0.0179 - val_dice_coef: 0.4578\n",
      "Epoch 27/30\n",
      "628/628 [==============================] - 146s 233ms/step - loss: 0.0083 - dice_coef: 0.6727 - val_loss: 0.0163 - val_dice_coef: 0.5210\n",
      "Epoch 28/30\n",
      "628/628 [==============================] - 148s 235ms/step - loss: 0.0084 - dice_coef: 0.6705 - val_loss: 0.0171 - val_dice_coef: 0.4985\n",
      "Epoch 29/30\n",
      "628/628 [==============================] - 146s 233ms/step - loss: 0.0080 - dice_coef: 0.6854 - val_loss: 0.0197 - val_dice_coef: 0.4667\n",
      "Epoch 30/30\n",
      "628/628 [==============================] - 148s 235ms/step - loss: 0.0079 - dice_coef: 0.6872 - val_loss: 0.0291 - val_dice_coef: 0.3792\n"
     ]
    }
   ],
   "source": [
    "history = model.fit_generator(\n",
    "    train_batches, \n",
    "    validation_data = valid_batches, \n",
    "    epochs = 30, \n",
    "#     verbose=0, \n",
    "#     callbacks=[TQDMNotebookCallback()]\n",
    ")"
   ]
  },
  {
   "cell_type": "code",
   "execution_count": 13,
   "metadata": {},
   "outputs": [],
   "source": [
    "import matplotlib.pyplot as plt\n",
    "plt.style.use('dark_background')"
   ]
  },
  {
   "cell_type": "code",
   "execution_count": 14,
   "metadata": {},
   "outputs": [
    {
     "data": {
      "image/png": "[encoded data removed]",
      "text/plain": [
       "<Figure size 1080x360 with 1 Axes>"
      ]
     },
     "metadata": {},
     "output_type": "display_data"
    }
   ],
   "source": [
    "plt.figure(figsize=(15,5))\n",
    "plt.plot(range(history.epoch[-1]+1),history.history['val_dice_coef'],label='val_dice_coef')\n",
    "plt.plot(range(history.epoch[-1]+1),history.history['dice_coef'],label='trn_dice_coef')\n",
    "plt.title('Training Accuracy'); plt.xlabel('Epoch'); plt.ylabel('Dice_coef');plt.legend(); \n",
    "plt.show()"
   ]
  },
  {
   "cell_type": "code",
   "execution_count": null,
   "metadata": {},
   "outputs": [],
   "source": []
  }
 ],
 "metadata": {
  "kernelspec": {
   "display_name": "Python 3",
   "language": "python",
   "name": "python3"
  },
  "language_info": {
   "codemirror_mode": {
    "name": "ipython",
    "version": 3
   },
   "file_extension": ".py",
   "mimetype": "text/x-python",
   "name": "python",
   "nbconvert_exporter": "python",
   "pygments_lexer": "ipython3",
   "version": "3.5.2"
  }
 },
 "nbformat": 4,
 "nbformat_minor": 4
}
