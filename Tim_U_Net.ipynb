{
 "cells": [
  {
   "cell_type": "code",
   "execution_count": null,
   "metadata": {},
   "outputs": [],
   "source": [
    "from keras.engine.training import Model\n",
    "from keras.layers import SpatialDropout2D, Conv2D\n",
    "from segmentation_models import Unet\n",
    "\n",
    "\n",
    "def unet_resnext_50(input_shape, freeze_encoder):\n",
    "    resnet_base, hyper_list = Unet(backbone_name='resnext50',\n",
    "                                   input_shape=input_shape,\n",
    "                                   input_tensor=None,\n",
    "                                   encoder_weights='imagenet',\n",
    "                                   freeze_encoder=freeze_encoder,\n",
    "                                   skip_connections='default',\n",
    "                                   decoder_block_type='transpose',\n",
    "                                   decoder_filters=(128, 64, 32, 16, 8),\n",
    "                                   decoder_use_batchnorm=True,\n",
    "                                   n_upsample_blocks=5,\n",
    "                                   upsample_rates=(2, 2, 2, 2, 2),\n",
    "                                   classes=1,\n",
    "                                   activation='sigmoid')\n",
    "\n",
    "    x = SpatialDropout2D(0.2)(resnet_base.output)\n",
    "    x = Conv2D(1, (1, 1), activation=\"sigmoid\", name=\"prediction\")(x)\n",
    "\n",
    "    model = Model(resnet_base.input, x)\n",
    "\n",
    "    return model\n",
    "\n",
    "\n",
    "def unet_resnext_50_lovasz(input_shape, freeze_encoder):\n",
    "    resnet_base, hyper_list = Unet(backbone_name='resnext50',\n",
    "                                   input_shape=input_shape,\n",
    "                                   input_tensor=None,\n",
    "                                   encoder_weights='imagenet',\n",
    "                                   freeze_encoder=freeze_encoder,\n",
    "                                   skip_connections='default',\n",
    "                                   decoder_block_type='transpose',\n",
    "                                   decoder_filters=(128, 64, 32, 16, 8),\n",
    "                                   decoder_use_batchnorm=True,\n",
    "                                   n_upsample_blocks=5,\n",
    "                                   upsample_rates=(2, 2, 2, 2, 2),\n",
    "                                   classes=1,\n",
    "                                   activation='sigmoid')\n",
    "\n",
    "    x = SpatialDropout2D(0.2)(resnet_base.output)\n",
    "    x = Conv2D(1, (1, 1), name=\"prediction\")(x)\n",
    "\n",
    "    model = Model(resnet_base.input, x)\n",
    "\n",
    "    return model"
   ]
  }
 ],
 "metadata": {
  "kernelspec": {
   "display_name": "Python 3",
   "language": "python",
   "name": "python3"
  },
  "language_info": {
   "codemirror_mode": {
    "name": "ipython",
    "version": 3
   },
   "file_extension": ".py",
   "mimetype": "text/x-python",
   "name": "python",
   "nbconvert_exporter": "python",
   "pygments_lexer": "ipython3",
   "version": "3.5.2"
  }
 },
 "nbformat": 4,
 "nbformat_minor": 4
}
