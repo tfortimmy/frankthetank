{
 "cells": [
  {
   "cell_type": "code",
   "execution_count": null,
   "metadata": {},
   "outputs": [],
   "source": [
    "!pip install keras"
   ]
  },
  {
   "cell_type": "code",
   "execution_count": null,
   "metadata": {},
   "outputs": [],
   "source": [
    "!pip install tqdm"
   ]
  },
  {
   "cell_type": "code",
   "execution_count": null,
   "metadata": {},
   "outputs": [],
   "source": [
    "!pip install sklearn"
   ]
  },
  {
   "cell_type": "code",
   "execution_count": null,
   "metadata": {},
   "outputs": [],
   "source": [
    "!pip install pandas"
   ]
  },
  {
   "cell_type": "markdown",
   "metadata": {},
   "source": [
    "# About this kernel\n",
    "This offers a boilerplate for a complete workflow for the Severstal Steel Defect Detection challenge. We will be using the popular U-Net architecture* in Keras, but I made this to be as extensible as possible so that you can experiment with different types of models. It is broken down in the following sections:\n",
    "\n",
    "Preprocessing: Expand the train dataframe to include image ID. Also create mask_count_df which will be useful for later.\n",
    "\n",
    "Utility Functions: Mostly copied from Paul's kernel and SIIM starter code (see references). You won't need to modify those.\n",
    "\n",
    "Sample Test: Simply visualizing a sample image and its masks,\n",
    "\n",
    "Data Generator: Very long and possibly complex. If you can, skip this part of the code. If you absolute need to modify the data generation process, please take a look __generate_X and __generate_y; in theory everything else should be left as is.\n",
    "\n",
    "Model Architecture: The architecture is slightly different from the other kernels, since it learns to predict all of the four masks at the same time, instead of predicting a single mask and duplicating it. It also takes as input grayscale images.\n",
    "\n",
    "Training: Running only for 9 epochs due to the time constraints (60 mins, this is roughly 300s per epoch).\n",
    "\n",
    "Evaluation & Submission: The submission code is pretty messy. Essentially, I'm splitting the test dataframe into multiple chunks, then run the model and mask2rle converter on the results. I'm doing this in order to not run out of RAM as we try to convert all the masks from array to RLE.\n",
    "\n",
    "* I might change the encoder to ResNet-34 in the future if it shows better performance... Let me know your thoughts in the comments!\n",
    "\n",
    "References\n",
    "* Data generator: https://stanford.edu/~shervine/blog/keras-how-to-generate-data-on-the-fly\n",
    "* RLE encoding and decoding: https://www.kaggle.com/paulorzp/rle-functions-run-lenght-encode-decode\n",
    "* Architecture: https://www.kaggle.com/jesperdramsch/intro-chest-xray-dicom-viz-u-nets-full-data\n",
    "* Mask encoding: https://www.kaggle.com/c/siim-acr-pneumothorax-segmentation/data"
   ]
  },
  {
   "cell_type": "code",
   "execution_count": null,
   "metadata": {},
   "outputs": [],
   "source": []
  },
  {
   "cell_type": "code",
   "execution_count": 3,
   "metadata": {},
   "outputs": [],
   "source": [
    "if 'session' in locals() and session is not None:\n",
    "    print('Close interactive session')\n",
    "    session.close()"
   ]
  },
  {
   "cell_type": "code",
   "execution_count": 4,
   "metadata": {},
   "outputs": [
    {
     "name": "stderr",
     "output_type": "stream",
     "text": [
      "Using TensorFlow backend.\n"
     ]
    }
   ],
   "source": [
    "from keras import backend as K \n",
    "K.clear_session()"
   ]
  },
  {
   "cell_type": "code",
   "execution_count": 5,
   "metadata": {},
   "outputs": [],
   "source": [
    "\n",
    "from keras.utils import multi_gpu_model\n",
    "from keras.backend.tensorflow_backend import set_session"
   ]
  },
  {
   "cell_type": "code",
   "execution_count": 6,
   "metadata": {},
   "outputs": [],
   "source": [
    "import numpy as np\n",
    "import tensorflow as tf"
   ]
  },
  {
   "cell_type": "code",
   "execution_count": 7,
   "metadata": {},
   "outputs": [],
   "source": [
    "import os\n",
    "import json\n",
    "\n",
    "import cv2\n",
    "import keras\n",
    "from keras import backend as K\n",
    "from keras.models import Model\n",
    "from keras.layers import Input\n",
    "from keras.layers.convolutional import Conv2D, Conv2DTranspose\n",
    "from keras.layers.pooling import MaxPooling2D\n",
    "from keras.layers.merge import concatenate\n",
    "from keras.callbacks import Callback, ModelCheckpoint\n",
    "import matplotlib.pyplot as plt\n",
    "import numpy as np\n",
    "import pandas as pd\n",
    "from tqdm import tqdm\n",
    "from sklearn.model_selection import train_test_split"
   ]
  },
  {
   "cell_type": "code",
   "execution_count": 8,
   "metadata": {},
   "outputs": [],
   "source": [
    "\n",
    "from keras.losses import mse, binary_crossentropy"
   ]
  },
  {
   "cell_type": "code",
   "execution_count": 9,
   "metadata": {},
   "outputs": [
    {
     "data": {
      "text/plain": [
       "['/job:localhost/replica:0/task:0/device:GPU:0',\n",
       " '/job:localhost/replica:0/task:0/device:GPU:1',\n",
       " '/job:localhost/replica:0/task:0/device:GPU:2',\n",
       " '/job:localhost/replica:0/task:0/device:GPU:3',\n",
       " '/job:localhost/replica:0/task:0/device:GPU:4',\n",
       " '/job:localhost/replica:0/task:0/device:GPU:5',\n",
       " '/job:localhost/replica:0/task:0/device:GPU:6',\n",
       " '/job:localhost/replica:0/task:0/device:GPU:7']"
      ]
     },
     "execution_count": 9,
     "metadata": {},
     "output_type": "execute_result"
    }
   ],
   "source": [
    "from keras import backend as K\n",
    "K.tensorflow_backend._get_available_gpus()"
   ]
  },
  {
   "cell_type": "code",
   "execution_count": 10,
   "metadata": {},
   "outputs": [],
   "source": [
    "import matplotlib.pyplot as plt\n",
    "plt.style.use('dark_background')"
   ]
  },
  {
   "cell_type": "code",
   "execution_count": 11,
   "metadata": {},
   "outputs": [],
   "source": [
    "def limit_mem():\n",
    "    K.get_session().close()\n",
    "    cfg = K.tf.ConfigProto()\n",
    "    cfg.gpu_options.allow_growth = True\n",
    "    K.set_session(K.tf.Session(config=cfg))"
   ]
  },
  {
   "cell_type": "code",
   "execution_count": 12,
   "metadata": {},
   "outputs": [],
   "source": [
    "limit_mem()"
   ]
  },
  {
   "cell_type": "code",
   "execution_count": 13,
   "metadata": {},
   "outputs": [
    {
     "name": "stdout",
     "output_type": "stream",
     "text": [
      "(50272, 5)\n"
     ]
    },
    {
     "data": {
      "text/html": [
       "<div>\n",
       "<style scoped>\n",
       "    .dataframe tbody tr th:only-of-type {\n",
       "        vertical-align: middle;\n",
       "    }\n",
       "\n",
       "    .dataframe tbody tr th {\n",
       "        vertical-align: top;\n",
       "    }\n",
       "\n",
       "    .dataframe thead th {\n",
       "        text-align: right;\n",
       "    }\n",
       "</style>\n",
       "<table border=\"1\" class=\"dataframe\">\n",
       "  <thead>\n",
       "    <tr style=\"text-align: right;\">\n",
       "      <th></th>\n",
       "      <th>ImageId_ClassId</th>\n",
       "      <th>EncodedPixels</th>\n",
       "      <th>ImageId</th>\n",
       "      <th>ClassId</th>\n",
       "      <th>hasMask</th>\n",
       "    </tr>\n",
       "  </thead>\n",
       "  <tbody>\n",
       "    <tr>\n",
       "      <th>0</th>\n",
       "      <td>0002cc93b.jpg_1</td>\n",
       "      <td>29102 12 29346 24 29602 24 29858 24 30114 24 3...</td>\n",
       "      <td>0002cc93b.jpg</td>\n",
       "      <td>1</td>\n",
       "      <td>True</td>\n",
       "    </tr>\n",
       "    <tr>\n",
       "      <th>1</th>\n",
       "      <td>0002cc93b.jpg_2</td>\n",
       "      <td>NaN</td>\n",
       "      <td>0002cc93b.jpg</td>\n",
       "      <td>2</td>\n",
       "      <td>False</td>\n",
       "    </tr>\n",
       "    <tr>\n",
       "      <th>2</th>\n",
       "      <td>0002cc93b.jpg_3</td>\n",
       "      <td>NaN</td>\n",
       "      <td>0002cc93b.jpg</td>\n",
       "      <td>3</td>\n",
       "      <td>False</td>\n",
       "    </tr>\n",
       "    <tr>\n",
       "      <th>3</th>\n",
       "      <td>0002cc93b.jpg_4</td>\n",
       "      <td>NaN</td>\n",
       "      <td>0002cc93b.jpg</td>\n",
       "      <td>4</td>\n",
       "      <td>False</td>\n",
       "    </tr>\n",
       "    <tr>\n",
       "      <th>4</th>\n",
       "      <td>00031f466.jpg_1</td>\n",
       "      <td>NaN</td>\n",
       "      <td>00031f466.jpg</td>\n",
       "      <td>1</td>\n",
       "      <td>False</td>\n",
       "    </tr>\n",
       "  </tbody>\n",
       "</table>\n",
       "</div>"
      ],
      "text/plain": [
       "   ImageId_ClassId                                      EncodedPixels  \\\n",
       "0  0002cc93b.jpg_1  29102 12 29346 24 29602 24 29858 24 30114 24 3...   \n",
       "1  0002cc93b.jpg_2                                                NaN   \n",
       "2  0002cc93b.jpg_3                                                NaN   \n",
       "3  0002cc93b.jpg_4                                                NaN   \n",
       "4  00031f466.jpg_1                                                NaN   \n",
       "\n",
       "         ImageId ClassId  hasMask  \n",
       "0  0002cc93b.jpg       1     True  \n",
       "1  0002cc93b.jpg       2    False  \n",
       "2  0002cc93b.jpg       3    False  \n",
       "3  0002cc93b.jpg       4    False  \n",
       "4  00031f466.jpg       1    False  "
      ]
     },
     "execution_count": 13,
     "metadata": {},
     "output_type": "execute_result"
    }
   ],
   "source": [
    "base_dir = '/data/severstal-steel-defect-detection/'\n",
    "train_df = pd.read_csv(base_dir+'/train.csv')\n",
    "train_df['ImageId'] = train_df['ImageId_ClassId'].apply(lambda x: x.split('_')[0])\n",
    "train_df['ClassId'] = train_df['ImageId_ClassId'].apply(lambda x: x.split('_')[1])\n",
    "train_df['hasMask'] = ~ train_df['EncodedPixels'].isna()\n",
    "\n",
    "print(train_df.shape)\n",
    "train_df.head()"
   ]
  },
  {
   "cell_type": "code",
   "execution_count": null,
   "metadata": {},
   "outputs": [],
   "source": []
  },
  {
   "cell_type": "code",
   "execution_count": 14,
   "metadata": {},
   "outputs": [
    {
     "name": "stdout",
     "output_type": "stream",
     "text": [
      "(12568, 2)\n"
     ]
    },
    {
     "data": {
      "text/html": [
       "<div>\n",
       "<style scoped>\n",
       "    .dataframe tbody tr th:only-of-type {\n",
       "        vertical-align: middle;\n",
       "    }\n",
       "\n",
       "    .dataframe tbody tr th {\n",
       "        vertical-align: top;\n",
       "    }\n",
       "\n",
       "    .dataframe thead th {\n",
       "        text-align: right;\n",
       "    }\n",
       "</style>\n",
       "<table border=\"1\" class=\"dataframe\">\n",
       "  <thead>\n",
       "    <tr style=\"text-align: right;\">\n",
       "      <th></th>\n",
       "      <th>ImageId</th>\n",
       "      <th>hasMask</th>\n",
       "    </tr>\n",
       "  </thead>\n",
       "  <tbody>\n",
       "    <tr>\n",
       "      <th>10803</th>\n",
       "      <td>db4867ee8.jpg</td>\n",
       "      <td>3.0</td>\n",
       "    </tr>\n",
       "    <tr>\n",
       "      <th>11776</th>\n",
       "      <td>ef24da2ba.jpg</td>\n",
       "      <td>3.0</td>\n",
       "    </tr>\n",
       "    <tr>\n",
       "      <th>6284</th>\n",
       "      <td>7f30b9c64.jpg</td>\n",
       "      <td>2.0</td>\n",
       "    </tr>\n",
       "    <tr>\n",
       "      <th>9421</th>\n",
       "      <td>bf0c81db6.jpg</td>\n",
       "      <td>2.0</td>\n",
       "    </tr>\n",
       "    <tr>\n",
       "      <th>9615</th>\n",
       "      <td>c314f43f3.jpg</td>\n",
       "      <td>2.0</td>\n",
       "    </tr>\n",
       "  </tbody>\n",
       "</table>\n",
       "</div>"
      ],
      "text/plain": [
       "             ImageId  hasMask\n",
       "10803  db4867ee8.jpg      3.0\n",
       "11776  ef24da2ba.jpg      3.0\n",
       "6284   7f30b9c64.jpg      2.0\n",
       "9421   bf0c81db6.jpg      2.0\n",
       "9615   c314f43f3.jpg      2.0"
      ]
     },
     "execution_count": 14,
     "metadata": {},
     "output_type": "execute_result"
    }
   ],
   "source": [
    "mask_count_df = train_df.groupby('ImageId').agg(np.sum).reset_index()\n",
    "mask_count_df.sort_values('hasMask', ascending=False, inplace=True)\n",
    "print(mask_count_df.shape)\n",
    "mask_count_df.head()"
   ]
  },
  {
   "cell_type": "code",
   "execution_count": null,
   "metadata": {},
   "outputs": [],
   "source": []
  },
  {
   "cell_type": "code",
   "execution_count": 15,
   "metadata": {},
   "outputs": [],
   "source": [
    "sub_df = pd.read_csv(base_dir+'/sample_submission.csv')\n",
    "sub_df['ImageId'] = sub_df['ImageId_ClassId'].apply(lambda x: x.split('_')[0])\n",
    "test_imgs = pd.DataFrame(sub_df['ImageId'].unique(), columns=['ImageId'])"
   ]
  },
  {
   "cell_type": "code",
   "execution_count": null,
   "metadata": {},
   "outputs": [],
   "source": []
  },
  {
   "cell_type": "markdown",
   "metadata": {},
   "source": [
    "# Utility Functions"
   ]
  },
  {
   "cell_type": "code",
   "execution_count": 16,
   "metadata": {},
   "outputs": [],
   "source": [
    "def mask2rle(img):\n",
    "    '''\n",
    "    img: numpy array, 1 - mask, 0 - background\n",
    "    Returns run length as string formated\n",
    "    '''\n",
    "    pixels= img.T.flatten()\n",
    "    pixels = np.concatenate([[0], pixels, [0]])\n",
    "    runs = np.where(pixels[1:] != pixels[:-1])[0] + 1\n",
    "    runs[1::2] -= runs[::2]\n",
    "    return ' '.join(str(x) for x in runs)\n",
    "\n",
    "def rle2mask(mask_rle, shape=(1600,256)):\n",
    "    '''\n",
    "    mask_rle: run-length as string formated (start length)\n",
    "    shape: (width,height) of array to return \n",
    "    Returns numpy array, 1 - mask, 0 - background\n",
    "\n",
    "    '''\n",
    "    s = mask_rle.split()\n",
    "    starts, lengths = [np.asarray(x, dtype=int) for x in (s[0:][::2], s[1:][::2])]\n",
    "    starts -= 1\n",
    "    ends = starts + lengths\n",
    "    img = np.zeros(shape[0]*shape[1], dtype=np.uint8)\n",
    "    for lo, hi in zip(starts, ends):\n",
    "        img[lo:hi] = 1\n",
    "    return img.reshape(shape).T"
   ]
  },
  {
   "cell_type": "code",
   "execution_count": 17,
   "metadata": {},
   "outputs": [],
   "source": [
    "def build_masks(rles, input_shape):\n",
    "    depth = len(rles)\n",
    "    height, width = input_shape\n",
    "    masks = np.zeros((height, width, depth))\n",
    "    \n",
    "    for i, rle in enumerate(rles):\n",
    "        if type(rle) is str:\n",
    "            masks[:, :, i] = rle2mask(rle, (width, height))\n",
    "    \n",
    "    return masks\n",
    "\n",
    "def build_rles(masks):\n",
    "    width, height, depth = masks.shape\n",
    "    \n",
    "    rles = [mask2rle(masks[:, :, i])\n",
    "            for i in range(depth)]\n",
    "    \n",
    "    return rles"
   ]
  },
  {
   "cell_type": "markdown",
   "metadata": {},
   "source": [
    "# Sample Test"
   ]
  },
  {
   "cell_type": "code",
   "execution_count": 18,
   "metadata": {},
   "outputs": [
    {
     "data": {
      "image/png": "[encoded data removed]",
      "text/plain": [
       "<Figure size 864x864 with 5 Axes>"
      ]
     },
     "metadata": {},
     "output_type": "display_data"
    }
   ],
   "source": [
    "sample_filename = 'db4867ee8.jpg'\n",
    "sample_image_df = train_df[train_df['ImageId'] == sample_filename]\n",
    "sample_path = base_dir+\"train_images/{}\".format(sample_image_df['ImageId'].iloc[0])\n",
    "sample_img = cv2.imread(sample_path)\n",
    "sample_rles = sample_image_df['EncodedPixels'].values\n",
    "sample_masks = build_masks(sample_rles, input_shape=(256, 1600))\n",
    "\n",
    "fig, axs = plt.subplots(5, figsize=(12, 12))\n",
    "axs[0].imshow(sample_img)\n",
    "axs[0].axis('off')\n",
    "axs[0].set_title('Raw')\n",
    "\n",
    "for i in range(4):\n",
    "    axs[i+1].imshow(sample_masks[:, :, i])\n",
    "    axs[i+1].axis('off')\n",
    "    axs[i+1].set_title('Defect {}'.format(i+1))"
   ]
  },
  {
   "cell_type": "code",
   "execution_count": null,
   "metadata": {},
   "outputs": [],
   "source": []
  },
  {
   "cell_type": "markdown",
   "metadata": {},
   "source": [
    "# Data Generator"
   ]
  },
  {
   "cell_type": "code",
   "execution_count": 19,
   "metadata": {},
   "outputs": [],
   "source": [
    "class DataGenerator(keras.utils.Sequence):\n",
    "    'Generates data for Keras'\n",
    "    def __init__(self, list_IDs, df, target_df=None, mode='fit',\n",
    "                 base_path= base_dir+'train_images',\n",
    "                 batch_size=32, dim=(256, 1600), n_channels=1,\n",
    "                 n_classes=4, random_state=2019, shuffle=True):\n",
    "        self.dim = dim\n",
    "        self.batch_size = batch_size\n",
    "        self.df = df\n",
    "        self.mode = mode\n",
    "        self.base_path = base_path\n",
    "        self.target_df = target_df\n",
    "        self.list_IDs = list_IDs\n",
    "        self.n_channels = n_channels\n",
    "        self.n_classes = n_classes\n",
    "        self.shuffle = shuffle\n",
    "        self.random_state = random_state\n",
    "        \n",
    "        self.on_epoch_end()\n",
    "\n",
    "    def __len__(self):\n",
    "        'Denotes the number of batches per epoch'\n",
    "        return int(np.floor(len(self.list_IDs) / self.batch_size))\n",
    "\n",
    "    def __getitem__(self, index):\n",
    "        'Generate one batch of data'\n",
    "        # Generate indexes of the batch\n",
    "        indexes = self.indexes[index*self.batch_size:(index+1)*self.batch_size]\n",
    "\n",
    "        # Find list of IDs\n",
    "        list_IDs_batch = [self.list_IDs[k] for k in indexes]\n",
    "        \n",
    "        X = self.__generate_X(list_IDs_batch)\n",
    "        \n",
    "        if self.mode == 'fit':\n",
    "            y = self.__generate_y(list_IDs_batch)\n",
    "            return X, y\n",
    "        \n",
    "        elif self.mode == 'predict':\n",
    "            return X\n",
    "\n",
    "        else:\n",
    "            raise AttributeError('The mode parameter should be set to \"fit\" or \"predict\".')\n",
    "        \n",
    "    def on_epoch_end(self):\n",
    "        'Updates indexes after each epoch'\n",
    "        self.indexes = np.arange(len(self.list_IDs))\n",
    "        if self.shuffle == True:\n",
    "            np.random.seed(self.random_state)\n",
    "            np.random.shuffle(self.indexes)\n",
    "    \n",
    "    def __generate_X(self, list_IDs_batch):\n",
    "        'Generates data containing batch_size samples'\n",
    "        # Initialization\n",
    "        X = np.empty((self.batch_size, *self.dim, self.n_channels))\n",
    "        \n",
    "        # Generate data\n",
    "        for i, ID in enumerate(list_IDs_batch):\n",
    "            im_name = self.df['ImageId'].iloc[ID]\n",
    "            img_path = \"{}/{}\".format(self.base_path, im_name)\n",
    "            img = self.__load_grayscale(img_path)\n",
    "            \n",
    "            # Store samples\n",
    "            X[i,] = img\n",
    "\n",
    "        return X\n",
    "    \n",
    "    def __generate_y(self, list_IDs_batch):\n",
    "        y = np.empty((self.batch_size, *self.dim, self.n_classes), dtype=int)\n",
    "        \n",
    "        for i, ID in enumerate(list_IDs_batch):\n",
    "            im_name = self.df['ImageId'].iloc[ID]\n",
    "            image_df = self.target_df[self.target_df['ImageId'] == im_name]\n",
    "            \n",
    "            rles = image_df['EncodedPixels'].values\n",
    "            masks = build_masks(rles, input_shape=self.dim)\n",
    "            \n",
    "            y[i, ] = masks\n",
    "\n",
    "        return y\n",
    "    \n",
    "    def __load_grayscale(self, img_path):\n",
    "        img = cv2.imread(img_path, cv2.IMREAD_GRAYSCALE)\n",
    "        img = img.astype(np.float32) / 255.\n",
    "        img = np.expand_dims(img, axis=-1)\n",
    "\n",
    "        return img\n",
    "    \n",
    "    def __load_rgb(self, img_path):\n",
    "        img = cv2.imread(img_path)\n",
    "        img = cv2.cvtColor(img, cv2.COLOR_BGR2RGB)\n",
    "        img = img.astype(np.float32) / 255.\n",
    "\n",
    "        return img"
   ]
  },
  {
   "cell_type": "code",
   "execution_count": null,
   "metadata": {},
   "outputs": [],
   "source": []
  },
  {
   "cell_type": "code",
   "execution_count": 20,
   "metadata": {},
   "outputs": [],
   "source": [
    "BATCH_SIZE = 16\n",
    "\n",
    "train_idx, val_idx = train_test_split(\n",
    "    mask_count_df.index, random_state=2019, test_size=0.15\n",
    ")\n",
    "\n",
    "train_generator = DataGenerator(\n",
    "    train_idx, \n",
    "    df=mask_count_df,\n",
    "    target_df=train_df,\n",
    "    batch_size=BATCH_SIZE, \n",
    "    n_classes=4\n",
    ")\n",
    "\n",
    "val_generator = DataGenerator(\n",
    "    val_idx, \n",
    "    df=mask_count_df,\n",
    "    target_df=train_df,\n",
    "    batch_size=BATCH_SIZE, \n",
    "    n_classes=4\n",
    ")"
   ]
  },
  {
   "cell_type": "code",
   "execution_count": 56,
   "metadata": {},
   "outputs": [
    {
     "data": {
      "text/plain": [
       "10682"
      ]
     },
     "execution_count": 56,
     "metadata": {},
     "output_type": "execute_result"
    }
   ],
   "source": [
    "train_idx.shape[0]"
   ]
  },
  {
   "cell_type": "code",
   "execution_count": 58,
   "metadata": {},
   "outputs": [
    {
     "data": {
      "text/plain": [
       "(1886,)"
      ]
     },
     "execution_count": 58,
     "metadata": {},
     "output_type": "execute_result"
    }
   ],
   "source": [
    "val_idx.shape"
   ]
  },
  {
   "cell_type": "code",
   "execution_count": 57,
   "metadata": {},
   "outputs": [
    {
     "data": {
      "text/plain": [
       "(12568, 2)"
      ]
     },
     "execution_count": 57,
     "metadata": {},
     "output_type": "execute_result"
    }
   ],
   "source": [
    "mask_count_df.shape"
   ]
  },
  {
   "cell_type": "markdown",
   "metadata": {},
   "source": [
    "# Model Architecture"
   ]
  },
  {
   "cell_type": "code",
   "execution_count": 21,
   "metadata": {},
   "outputs": [],
   "source": [
    "def dice_coef(y_true, y_pred, smooth=1):\n",
    "    y_true_f = K.flatten(y_true)\n",
    "    y_pred_f = K.flatten(y_pred)\n",
    "    intersection = K.sum(y_true_f * y_pred_f)\n",
    "    return (2. * intersection + smooth) / (K.sum(y_true_f) + K.sum(y_pred_f) + smooth)"
   ]
  },
  {
   "cell_type": "code",
   "execution_count": 22,
   "metadata": {},
   "outputs": [],
   "source": [
    "def build_model(input_shape):\n",
    "    \n",
    "    with tf.device('/cpu:0'):\n",
    "    \n",
    "        inputs = Input(input_shape)\n",
    "\n",
    "        c1 = Conv2D(8, (3, 3), activation='relu', padding='same') (inputs)\n",
    "        c1 = Conv2D(8, (3, 3), activation='relu', padding='same') (c1)\n",
    "        p1 = MaxPooling2D((2, 2)) (c1)\n",
    "\n",
    "        c2 = Conv2D(16, (3, 3), activation='relu', padding='same') (p1)\n",
    "        c2 = Conv2D(16, (3, 3), activation='relu', padding='same') (c2)\n",
    "        p2 = MaxPooling2D((2, 2)) (c2)\n",
    "\n",
    "        c3 = Conv2D(32, (3, 3), activation='relu', padding='same') (p2)\n",
    "        c3 = Conv2D(32, (3, 3), activation='relu', padding='same') (c3)\n",
    "        p3 = MaxPooling2D((2, 2)) (c3)\n",
    "\n",
    "        c4 = Conv2D(64, (3, 3), activation='relu', padding='same') (p3)\n",
    "        c4 = Conv2D(64, (3, 3), activation='relu', padding='same') (c4)\n",
    "        p4 = MaxPooling2D(pool_size=(2, 2)) (c4)\n",
    "\n",
    "        c5 = Conv2D(64, (3, 3), activation='relu', padding='same') (p4)\n",
    "        c5 = Conv2D(64, (3, 3), activation='relu', padding='same') (c5)\n",
    "        p5 = MaxPooling2D(pool_size=(2, 2)) (c5)\n",
    "\n",
    "        c55 = Conv2D(128, (3, 3), activation='relu', padding='same') (p5)\n",
    "        c55 = Conv2D(128, (3, 3), activation='relu', padding='same') (c55)\n",
    "\n",
    "        u6 = Conv2DTranspose(64, (2, 2), strides=(2, 2), padding='same') (c55)\n",
    "        u6 = concatenate([u6, c5])\n",
    "        c6 = Conv2D(64, (3, 3), activation='relu', padding='same') (u6)\n",
    "        c6 = Conv2D(64, (3, 3), activation='relu', padding='same') (c6)\n",
    "\n",
    "        u71 = Conv2DTranspose(32, (2, 2), strides=(2, 2), padding='same') (c6)\n",
    "        u71 = concatenate([u71, c4])\n",
    "        c71 = Conv2D(32, (3, 3), activation='relu', padding='same') (u71)\n",
    "        c61 = Conv2D(32, (3, 3), activation='relu', padding='same') (c71)\n",
    "\n",
    "        u7 = Conv2DTranspose(32, (2, 2), strides=(2, 2), padding='same') (c61)\n",
    "        u7 = concatenate([u7, c3])\n",
    "        c7 = Conv2D(32, (3, 3), activation='relu', padding='same') (u7)\n",
    "        c7 = Conv2D(32, (3, 3), activation='relu', padding='same') (c7)\n",
    "\n",
    "        u8 = Conv2DTranspose(16, (2, 2), strides=(2, 2), padding='same') (c7)\n",
    "        u8 = concatenate([u8, c2])\n",
    "        c8 = Conv2D(16, (3, 3), activation='relu', padding='same') (u8)\n",
    "        c8 = Conv2D(16, (3, 3), activation='relu', padding='same') (c8)\n",
    "\n",
    "        u9 = Conv2DTranspose(8, (2, 2), strides=(2, 2), padding='same') (c8)\n",
    "        u9 = concatenate([u9, c1], axis=3)\n",
    "        c9 = Conv2D(8, (3, 3), activation='relu', padding='same') (u9)\n",
    "        c9 = Conv2D(8, (3, 3), activation='relu', padding='same') (c9)\n",
    "\n",
    "        outputs = Conv2D(4, (1, 1), activation='sigmoid') (c9)\n",
    "\n",
    "        model = Model(inputs=[inputs], outputs=[outputs])\n",
    "#         model.add_loss(binary_crossentropy)\n",
    "    \n",
    "    parallel_model = multi_gpu_model(model, gpus=8)\n",
    "    parallel_model.compile(optimizer='adam', loss='binary_crossentropy', metrics=[dice_coef])\n",
    "#     model.compile(optimizer='adam', loss='binary_crossentropy', metrics=[dice_coef])\n",
    "    \n",
    "    del model\n",
    "    \n",
    "    return parallel_model"
   ]
  },
  {
   "cell_type": "markdown",
   "metadata": {},
   "source": [
    "# Training"
   ]
  },
  {
   "cell_type": "code",
   "execution_count": 23,
   "metadata": {
    "collapsed": true,
    "jupyter": {
     "outputs_hidden": true
    }
   },
   "outputs": [
    {
     "name": "stdout",
     "output_type": "stream",
     "text": [
      "WARNING:tensorflow:From /usr/local/lib/python3.5/dist-packages/tensorflow/python/framework/op_def_library.py:263: colocate_with (from tensorflow.python.framework.ops) is deprecated and will be removed in a future version.\n",
      "Instructions for updating:\n",
      "Colocations handled automatically by placer.\n",
      "__________________________________________________________________________________________________\n",
      "Layer (type)                    Output Shape         Param #     Connected to                     \n",
      "==================================================================================================\n",
      "input_1 (InputLayer)            (None, 256, 1600, 1) 0                                            \n",
      "__________________________________________________________________________________________________\n",
      "lambda_1 (Lambda)               (None, 256, 1600, 1) 0           input_1[0][0]                    \n",
      "__________________________________________________________________________________________________\n",
      "lambda_2 (Lambda)               (None, 256, 1600, 1) 0           input_1[0][0]                    \n",
      "__________________________________________________________________________________________________\n",
      "lambda_3 (Lambda)               (None, 256, 1600, 1) 0           input_1[0][0]                    \n",
      "__________________________________________________________________________________________________\n",
      "lambda_4 (Lambda)               (None, 256, 1600, 1) 0           input_1[0][0]                    \n",
      "__________________________________________________________________________________________________\n",
      "lambda_5 (Lambda)               (None, 256, 1600, 1) 0           input_1[0][0]                    \n",
      "__________________________________________________________________________________________________\n",
      "lambda_6 (Lambda)               (None, 256, 1600, 1) 0           input_1[0][0]                    \n",
      "__________________________________________________________________________________________________\n",
      "lambda_7 (Lambda)               (None, 256, 1600, 1) 0           input_1[0][0]                    \n",
      "__________________________________________________________________________________________________\n",
      "lambda_8 (Lambda)               (None, 256, 1600, 1) 0           input_1[0][0]                    \n",
      "__________________________________________________________________________________________________\n",
      "model_1 (Model)                 (None, 256, 1600, 4) 600612      lambda_1[0][0]                   \n",
      "                                                                 lambda_2[0][0]                   \n",
      "                                                                 lambda_3[0][0]                   \n",
      "                                                                 lambda_4[0][0]                   \n",
      "                                                                 lambda_5[0][0]                   \n",
      "                                                                 lambda_6[0][0]                   \n",
      "                                                                 lambda_7[0][0]                   \n",
      "                                                                 lambda_8[0][0]                   \n",
      "__________________________________________________________________________________________________\n",
      "conv2d_23 (Concatenate)         (None, 256, 1600, 4) 0           model_1[1][0]                    \n",
      "                                                                 model_1[2][0]                    \n",
      "                                                                 model_1[3][0]                    \n",
      "                                                                 model_1[4][0]                    \n",
      "                                                                 model_1[5][0]                    \n",
      "                                                                 model_1[6][0]                    \n",
      "                                                                 model_1[7][0]                    \n",
      "                                                                 model_1[8][0]                    \n",
      "==================================================================================================\n",
      "Total params: 600,612\n",
      "Trainable params: 600,612\n",
      "Non-trainable params: 0\n",
      "__________________________________________________________________________________________________\n"
     ]
    }
   ],
   "source": [
    "model = build_model((256, 1600, 1))\n",
    "model.summary()"
   ]
  },
  {
   "cell_type": "code",
   "execution_count": 24,
   "metadata": {},
   "outputs": [],
   "source": [
    "checkpoint = ModelCheckpoint(\n",
    "    'model.h5', \n",
    "    monitor='val_loss', \n",
    "    verbose=0, \n",
    "    save_best_only=True, \n",
    "    save_weights_only=False,\n",
    "    mode='auto'\n",
    ")"
   ]
  },
  {
   "cell_type": "code",
   "execution_count": 27,
   "metadata": {},
   "outputs": [
    {
     "data": {
      "text/html": [
       "<div>\n",
       "<style scoped>\n",
       "    .dataframe tbody tr th:only-of-type {\n",
       "        vertical-align: middle;\n",
       "    }\n",
       "\n",
       "    .dataframe tbody tr th {\n",
       "        vertical-align: top;\n",
       "    }\n",
       "\n",
       "    .dataframe thead th {\n",
       "        text-align: right;\n",
       "    }\n",
       "</style>\n",
       "<table border=\"1\" class=\"dataframe\">\n",
       "  <thead>\n",
       "    <tr style=\"text-align: right;\">\n",
       "      <th></th>\n",
       "      <th>ImageId_ClassId</th>\n",
       "      <th>EncodedPixels</th>\n",
       "      <th>ImageId</th>\n",
       "      <th>ClassId</th>\n",
       "      <th>hasMask</th>\n",
       "    </tr>\n",
       "  </thead>\n",
       "  <tbody>\n",
       "    <tr>\n",
       "      <th>0</th>\n",
       "      <td>0002cc93b.jpg_1</td>\n",
       "      <td>29102 12 29346 24 29602 24 29858 24 30114 24 3...</td>\n",
       "      <td>0002cc93b.jpg</td>\n",
       "      <td>1</td>\n",
       "      <td>True</td>\n",
       "    </tr>\n",
       "    <tr>\n",
       "      <th>1</th>\n",
       "      <td>0002cc93b.jpg_2</td>\n",
       "      <td>NaN</td>\n",
       "      <td>0002cc93b.jpg</td>\n",
       "      <td>2</td>\n",
       "      <td>False</td>\n",
       "    </tr>\n",
       "    <tr>\n",
       "      <th>2</th>\n",
       "      <td>0002cc93b.jpg_3</td>\n",
       "      <td>NaN</td>\n",
       "      <td>0002cc93b.jpg</td>\n",
       "      <td>3</td>\n",
       "      <td>False</td>\n",
       "    </tr>\n",
       "    <tr>\n",
       "      <th>3</th>\n",
       "      <td>0002cc93b.jpg_4</td>\n",
       "      <td>NaN</td>\n",
       "      <td>0002cc93b.jpg</td>\n",
       "      <td>4</td>\n",
       "      <td>False</td>\n",
       "    </tr>\n",
       "    <tr>\n",
       "      <th>4</th>\n",
       "      <td>00031f466.jpg_1</td>\n",
       "      <td>NaN</td>\n",
       "      <td>00031f466.jpg</td>\n",
       "      <td>1</td>\n",
       "      <td>False</td>\n",
       "    </tr>\n",
       "  </tbody>\n",
       "</table>\n",
       "</div>"
      ],
      "text/plain": [
       "   ImageId_ClassId                                      EncodedPixels  \\\n",
       "0  0002cc93b.jpg_1  29102 12 29346 24 29602 24 29858 24 30114 24 3...   \n",
       "1  0002cc93b.jpg_2                                                NaN   \n",
       "2  0002cc93b.jpg_3                                                NaN   \n",
       "3  0002cc93b.jpg_4                                                NaN   \n",
       "4  00031f466.jpg_1                                                NaN   \n",
       "\n",
       "         ImageId ClassId  hasMask  \n",
       "0  0002cc93b.jpg       1     True  \n",
       "1  0002cc93b.jpg       2    False  \n",
       "2  0002cc93b.jpg       3    False  \n",
       "3  0002cc93b.jpg       4    False  \n",
       "4  00031f466.jpg       1    False  "
      ]
     },
     "execution_count": 27,
     "metadata": {},
     "output_type": "execute_result"
    }
   ],
   "source": [
    "train_df.head()"
   ]
  },
  {
   "cell_type": "code",
   "execution_count": null,
   "metadata": {},
   "outputs": [],
   "source": []
  },
  {
   "cell_type": "code",
   "execution_count": 28,
   "metadata": {},
   "outputs": [],
   "source": [
    "from sklearn.utils import class_weight\n",
    "class_weights = class_weight.compute_class_weight('balanced',\n",
    "                                                 np.unique(train_df.ClassId),\n",
    "                                                 train_df.loc[~pd.isnull(train_df.EncodedPixels),'ClassId'])"
   ]
  },
  {
   "cell_type": "code",
   "execution_count": 29,
   "metadata": {},
   "outputs": [
    {
     "name": "stdout",
     "output_type": "stream",
     "text": [
      "WARNING:tensorflow:From /usr/local/lib/python3.5/dist-packages/tensorflow/python/ops/math_ops.py:3066: to_int32 (from tensorflow.python.ops.math_ops) is deprecated and will be removed in a future version.\n",
      "Instructions for updating:\n",
      "Use tf.cast instead.\n",
      "Epoch 1/25\n",
      "667/667 [==============================] - 234s 350ms/step - loss: 0.0587 - dice_coef: 0.0256 - val_loss: 0.0355 - val_dice_coef: 0.0506\n",
      "Epoch 2/25\n",
      "667/667 [==============================] - 206s 308ms/step - loss: 0.0328 - dice_coef: 0.0859 - val_loss: 0.0294 - val_dice_coef: 0.1297\n",
      "Epoch 3/25\n",
      "667/667 [==============================] - 207s 311ms/step - loss: 0.0281 - dice_coef: 0.1685 - val_loss: 0.0239 - val_dice_coef: 0.2305\n",
      "Epoch 4/25\n",
      "667/667 [==============================] - 205s 307ms/step - loss: 0.0238 - dice_coef: 0.2743 - val_loss: 0.0220 - val_dice_coef: 0.3110\n",
      "Epoch 5/25\n",
      "667/667 [==============================] - 207s 310ms/step - loss: 0.0218 - dice_coef: 0.3205 - val_loss: 0.0223 - val_dice_coef: 0.2745\n",
      "Epoch 6/25\n",
      "667/667 [==============================] - 209s 313ms/step - loss: 0.0205 - dice_coef: 0.3488 - val_loss: 0.0197 - val_dice_coef: 0.3595\n",
      "Epoch 7/25\n",
      "667/667 [==============================] - 206s 309ms/step - loss: 0.0201 - dice_coef: 0.3596 - val_loss: 0.0210 - val_dice_coef: 0.3487\n",
      "Epoch 8/25\n",
      "667/667 [==============================] - 206s 309ms/step - loss: 0.0193 - dice_coef: 0.3761 - val_loss: 0.0207 - val_dice_coef: 0.3018\n",
      "Epoch 9/25\n",
      "667/667 [==============================] - 204s 307ms/step - loss: 0.0187 - dice_coef: 0.3923 - val_loss: 0.0202 - val_dice_coef: 0.2543\n",
      "Epoch 10/25\n",
      "667/667 [==============================] - 208s 311ms/step - loss: 0.0180 - dice_coef: 0.4035 - val_loss: 0.0205 - val_dice_coef: 0.3267\n",
      "Epoch 11/25\n",
      "667/667 [==============================] - 204s 306ms/step - loss: 0.0176 - dice_coef: 0.4177 - val_loss: 0.0186 - val_dice_coef: 0.3280\n",
      "Epoch 12/25\n",
      "667/667 [==============================] - 211s 316ms/step - loss: 0.0167 - dice_coef: 0.4352 - val_loss: 0.0169 - val_dice_coef: 0.4062\n",
      "Epoch 13/25\n",
      " 58/667 [=>............................] - ETA: 2:26 - loss: 0.0165 - dice_coef: 0.4240"
     ]
    },
    {
     "name": "stderr",
     "output_type": "stream",
     "text": [
      "IOPub message rate exceeded.\n",
      "The notebook server will temporarily stop sending output\n",
      "to the client in order to avoid crashing it.\n",
      "To change this limit, set the config variable\n",
      "`--NotebookApp.iopub_msg_rate_limit`.\n",
      "\n",
      "Current values:\n",
      "NotebookApp.iopub_msg_rate_limit=1000.0 (msgs/sec)\n",
      "NotebookApp.rate_limit_window=3.0 (secs)\n",
      "\n"
     ]
    },
    {
     "name": "stdout",
     "output_type": "stream",
     "text": [
      "667/667 [==============================] - 206s 309ms/step - loss: 0.0126 - dice_coef: 0.5466 - val_loss: 0.0156 - val_dice_coef: 0.4964\n",
      "Epoch 23/25\n",
      "667/667 [==============================] - 205s 307ms/step - loss: 0.0117 - dice_coef: 0.5727 - val_loss: 0.0147 - val_dice_coef: 0.5288\n",
      "Epoch 24/25\n",
      "667/667 [==============================] - 204s 306ms/step - loss: 0.0114 - dice_coef: 0.5809 - val_loss: 0.0161 - val_dice_coef: 0.5155\n",
      "Epoch 25/25\n",
      "667/667 [==============================] - 207s 310ms/step - loss: 0.0111 - dice_coef: 0.5891 - val_loss: 0.0187 - val_dice_coef: 0.4717\n"
     ]
    }
   ],
   "source": [
    "history = model.fit_generator(\n",
    "    train_generator,\n",
    "    validation_data=val_generator,\n",
    "    callbacks=[checkpoint],\n",
    "#     use_multiprocessing=True,\n",
    "#     workers=4,\n",
    "    epochs=25,\n",
    "    class_weight=class_weights\n",
    ")"
   ]
  },
  {
   "cell_type": "markdown",
   "metadata": {},
   "source": [
    "# Evaluation & Submission"
   ]
  },
  {
   "cell_type": "code",
   "execution_count": 30,
   "metadata": {},
   "outputs": [
    {
     "data": {
      "text/plain": [
       "<matplotlib.axes._subplots.AxesSubplot at 0x7f62dc4a8588>"
      ]
     },
     "execution_count": 30,
     "metadata": {},
     "output_type": "execute_result"
    },
    {
     "data": {
      "image/png": "[encoded data removed]",
      "text/plain": [
       "<Figure size 432x288 with 1 Axes>"
      ]
     },
     "metadata": {},
     "output_type": "display_data"
    },
    {
     "data": {
      "image/png": "[encoded data removed]",
      "text/plain": [
       "<Figure size 432x288 with 1 Axes>"
      ]
     },
     "metadata": {},
     "output_type": "display_data"
    }
   ],
   "source": [
    "with open('history.json', 'w') as f:\n",
    "    json.dump(history.history, f)\n",
    "\n",
    "history_df = pd.DataFrame(history.history)\n",
    "history_df[['loss', 'val_loss']].plot()\n",
    "history_df[['dice_coef', 'val_dice_coef']].plot()"
   ]
  },
  {
   "cell_type": "code",
   "execution_count": null,
   "metadata": {},
   "outputs": [],
   "source": [
    "model.load_weights('model.h5')\n",
    "test_df = []\n",
    "\n",
    "for i in range(0, test_imgs.shape[0], 500):\n",
    "    batch_idx = list(\n",
    "        range(i, min(test_imgs.shape[0], i + 500))\n",
    "    )\n",
    "    \n",
    "    test_generator = DataGenerator(\n",
    "        batch_idx,\n",
    "        df=test_imgs,\n",
    "        shuffle=False,\n",
    "        mode='predict',\n",
    "        base_path=base_dir+'test_images',\n",
    "        target_df=sub_df,\n",
    "        batch_size=1,\n",
    "        n_classes=4\n",
    "    )\n",
    "    \n",
    "    batch_pred_masks = model.predict_generator(\n",
    "        test_generator, \n",
    "        workers=1,\n",
    "        verbose=1,\n",
    "        use_multiprocessing=False\n",
    "    )\n",
    "    \n",
    "    for j, b in tqdm(enumerate(batch_idx)):\n",
    "        filename = test_imgs['ImageId'].iloc[b]\n",
    "        image_df = sub_df[sub_df['ImageId'] == filename].copy()\n",
    "        \n",
    "        pred_masks = batch_pred_masks[j, ].round().astype(int)\n",
    "        pred_rles = build_rles(pred_masks)\n",
    "        \n",
    "        image_df['EncodedPixels'] = pred_rles\n",
    "        test_df.append(image_df)"
   ]
  },
  {
   "cell_type": "code",
   "execution_count": null,
   "metadata": {},
   "outputs": [],
   "source": [
    "test_df = pd.concat(test_df)\n",
    "test_df.drop(columns='ImageId', inplace=True)\n",
    "test_df.to_csv('submission.csv', index=False)"
   ]
  },
  {
   "cell_type": "code",
   "execution_count": 31,
   "metadata": {},
   "outputs": [
    {
     "data": {
      "text/plain": [
       "Int64Index([ 7232, 12204, 10006,  3655, 12140,  6118,  5938, 11153,  5393,\n",
       "             6668,\n",
       "            ...\n",
       "             9115,  6867,  2473,  3292, 10176,  3919, 11842,  2963,  9074,\n",
       "             8660],\n",
       "           dtype='int64', length=1886)"
      ]
     },
     "execution_count": 31,
     "metadata": {},
     "output_type": "execute_result"
    }
   ],
   "source": [
    "val_idx"
   ]
  },
  {
   "cell_type": "markdown",
   "metadata": {},
   "source": [
    "# Analyse Validation Predictions"
   ]
  },
  {
   "cell_type": "code",
   "execution_count": 43,
   "metadata": {},
   "outputs": [],
   "source": [
    "\n",
    "val_generator = DataGenerator(\n",
    "    val_idx, \n",
    "    df=mask_count_df,\n",
    "    target_df=train_df,\n",
    "    batch_size=BATCH_SIZE, \n",
    "    n_classes=4\n",
    ")"
   ]
  },
  {
   "cell_type": "code",
   "execution_count": 44,
   "metadata": {},
   "outputs": [
    {
     "name": "stdout",
     "output_type": "stream",
     "text": [
      "117/117 [==============================] - 31s 265ms/step\n"
     ]
    }
   ],
   "source": [
    "\n",
    "batch_pred_masks = model.predict_generator(\n",
    "    val_generator, \n",
    "    workers=1,\n",
    "    verbose=1,\n",
    "    use_multiprocessing=False\n",
    ")"
   ]
  },
  {
   "cell_type": "code",
   "execution_count": 45,
   "metadata": {},
   "outputs": [
    {
     "data": {
      "text/plain": [
       "(1872, 256, 1600, 4)"
      ]
     },
     "execution_count": 45,
     "metadata": {},
     "output_type": "execute_result"
    }
   ],
   "source": [
    "batch_pred_masks.shape"
   ]
  },
  {
   "cell_type": "code",
   "execution_count": 46,
   "metadata": {},
   "outputs": [
    {
     "data": {
      "text/plain": [
       "(1886,)"
      ]
     },
     "execution_count": 46,
     "metadata": {},
     "output_type": "execute_result"
    }
   ],
   "source": [
    "val_idx.shape"
   ]
  },
  {
   "cell_type": "code",
   "execution_count": 42,
   "metadata": {},
   "outputs": [
    {
     "data": {
      "text/plain": [
       "array([[[8.40425491e-06, 0.00000000e+00, 2.31313705e-03, 2.80946493e-04],\n",
       "        [1.19209290e-07, 0.00000000e+00, 7.23302364e-05, 3.15904617e-06],\n",
       "        [5.96046448e-08, 0.00000000e+00, 7.17639923e-05, 6.55651093e-07],\n",
       "        ...,\n",
       "        [1.78813934e-07, 0.00000000e+00, 1.98841095e-04, 2.23517418e-06],\n",
       "        [1.19209290e-07, 0.00000000e+00, 7.99894333e-04, 3.10242176e-05],\n",
       "        [2.44379044e-06, 0.00000000e+00, 2.41896510e-03, 1.91986561e-04]],\n",
       "\n",
       "       [[1.31130219e-06, 5.96046448e-08, 7.43567944e-05, 2.35587358e-04],\n",
       "        [1.19209290e-07, 0.00000000e+00, 4.47332859e-05, 0.00000000e+00],\n",
       "        [6.25848770e-07, 0.00000000e+00, 6.07073307e-05, 0.00000000e+00],\n",
       "        ...,\n",
       "        [1.19209290e-07, 0.00000000e+00, 1.04248524e-04, 5.96046448e-08],\n",
       "        [0.00000000e+00, 0.00000000e+00, 4.24563885e-04, 2.98023224e-08],\n",
       "        [0.00000000e+00, 0.00000000e+00, 2.64018774e-04, 3.57627869e-07]],\n",
       "\n",
       "       [[5.27501106e-06, 3.57627869e-07, 2.09599733e-04, 4.26173210e-06],\n",
       "        [8.04662704e-07, 0.00000000e+00, 1.04069710e-04, 0.00000000e+00],\n",
       "        [9.23871994e-07, 0.00000000e+00, 8.95559788e-05, 0.00000000e+00],\n",
       "        ...,\n",
       "        [2.98023224e-07, 0.00000000e+00, 1.91420317e-04, 2.98023224e-08],\n",
       "        [0.00000000e+00, 0.00000000e+00, 5.81711531e-04, 2.08616257e-07],\n",
       "        [0.00000000e+00, 0.00000000e+00, 5.46306372e-04, 1.31130219e-06]],\n",
       "\n",
       "       ...,\n",
       "\n",
       "       [[0.00000000e+00, 0.00000000e+00, 4.03523445e-05, 3.88026237e-05],\n",
       "        [0.00000000e+00, 0.00000000e+00, 1.03324652e-04, 0.00000000e+00],\n",
       "        [1.78813934e-07, 0.00000000e+00, 2.81244516e-04, 0.00000000e+00],\n",
       "        ...,\n",
       "        [4.17232513e-07, 0.00000000e+00, 1.30265951e-04, 1.10268593e-06],\n",
       "        [0.00000000e+00, 0.00000000e+00, 5.01155853e-04, 0.00000000e+00],\n",
       "        [0.00000000e+00, 0.00000000e+00, 1.26272440e-04, 6.25848770e-07]],\n",
       "\n",
       "       [[1.78813934e-07, 0.00000000e+00, 4.31537628e-05, 8.55326653e-06],\n",
       "        [0.00000000e+00, 0.00000000e+00, 3.61025333e-04, 0.00000000e+00],\n",
       "        [2.98023224e-08, 0.00000000e+00, 1.15573406e-04, 0.00000000e+00],\n",
       "        ...,\n",
       "        [3.57627869e-07, 0.00000000e+00, 2.32994556e-04, 3.27825546e-07],\n",
       "        [0.00000000e+00, 0.00000000e+00, 6.51955605e-04, 2.98023224e-07],\n",
       "        [8.94069672e-08, 0.00000000e+00, 1.91456079e-03, 7.89761543e-06]],\n",
       "\n",
       "       [[4.88758087e-06, 1.04308128e-06, 2.14189291e-04, 1.05917454e-04],\n",
       "        [0.00000000e+00, 0.00000000e+00, 4.37498093e-05, 5.36441803e-07],\n",
       "        [2.98023224e-08, 0.00000000e+00, 6.93500042e-05, 5.66244125e-07],\n",
       "        ...,\n",
       "        [1.32322311e-05, 3.18884850e-06, 2.57492065e-04, 2.93254852e-05],\n",
       "        [8.13603401e-06, 2.68220901e-07, 2.33983994e-03, 7.95722008e-06],\n",
       "        [6.22868538e-06, 0.00000000e+00, 8.14226270e-03, 4.58210707e-04]]],\n",
       "      dtype=float32)"
      ]
     },
     "execution_count": 42,
     "metadata": {},
     "output_type": "execute_result"
    }
   ],
   "source": [
    "batch_pred_masks[0]"
   ]
  },
  {
   "cell_type": "code",
   "execution_count": 47,
   "metadata": {},
   "outputs": [
    {
     "data": {
      "text/plain": [
       "(1886, 5)"
      ]
     },
     "execution_count": 47,
     "metadata": {},
     "output_type": "execute_result"
    }
   ],
   "source": [
    "train_df.loc[val_idx].shape"
   ]
  },
  {
   "cell_type": "code",
   "execution_count": 48,
   "metadata": {},
   "outputs": [
    {
     "data": {
      "text/html": [
       "<div>\n",
       "<style scoped>\n",
       "    .dataframe tbody tr th:only-of-type {\n",
       "        vertical-align: middle;\n",
       "    }\n",
       "\n",
       "    .dataframe tbody tr th {\n",
       "        vertical-align: top;\n",
       "    }\n",
       "\n",
       "    .dataframe thead th {\n",
       "        text-align: right;\n",
       "    }\n",
       "</style>\n",
       "<table border=\"1\" class=\"dataframe\">\n",
       "  <thead>\n",
       "    <tr style=\"text-align: right;\">\n",
       "      <th></th>\n",
       "      <th>ImageId_ClassId</th>\n",
       "      <th>EncodedPixels</th>\n",
       "      <th>ImageId</th>\n",
       "      <th>ClassId</th>\n",
       "      <th>hasMask</th>\n",
       "    </tr>\n",
       "  </thead>\n",
       "  <tbody>\n",
       "    <tr>\n",
       "      <th>0</th>\n",
       "      <td>0002cc93b.jpg_1</td>\n",
       "      <td>29102 12 29346 24 29602 24 29858 24 30114 24 3...</td>\n",
       "      <td>0002cc93b.jpg</td>\n",
       "      <td>1</td>\n",
       "      <td>True</td>\n",
       "    </tr>\n",
       "    <tr>\n",
       "      <th>1</th>\n",
       "      <td>0002cc93b.jpg_2</td>\n",
       "      <td>NaN</td>\n",
       "      <td>0002cc93b.jpg</td>\n",
       "      <td>2</td>\n",
       "      <td>False</td>\n",
       "    </tr>\n",
       "    <tr>\n",
       "      <th>2</th>\n",
       "      <td>0002cc93b.jpg_3</td>\n",
       "      <td>NaN</td>\n",
       "      <td>0002cc93b.jpg</td>\n",
       "      <td>3</td>\n",
       "      <td>False</td>\n",
       "    </tr>\n",
       "    <tr>\n",
       "      <th>3</th>\n",
       "      <td>0002cc93b.jpg_4</td>\n",
       "      <td>NaN</td>\n",
       "      <td>0002cc93b.jpg</td>\n",
       "      <td>4</td>\n",
       "      <td>False</td>\n",
       "    </tr>\n",
       "    <tr>\n",
       "      <th>4</th>\n",
       "      <td>00031f466.jpg_1</td>\n",
       "      <td>NaN</td>\n",
       "      <td>00031f466.jpg</td>\n",
       "      <td>1</td>\n",
       "      <td>False</td>\n",
       "    </tr>\n",
       "  </tbody>\n",
       "</table>\n",
       "</div>"
      ],
      "text/plain": [
       "   ImageId_ClassId                                      EncodedPixels  \\\n",
       "0  0002cc93b.jpg_1  29102 12 29346 24 29602 24 29858 24 30114 24 3...   \n",
       "1  0002cc93b.jpg_2                                                NaN   \n",
       "2  0002cc93b.jpg_3                                                NaN   \n",
       "3  0002cc93b.jpg_4                                                NaN   \n",
       "4  00031f466.jpg_1                                                NaN   \n",
       "\n",
       "         ImageId ClassId  hasMask  \n",
       "0  0002cc93b.jpg       1     True  \n",
       "1  0002cc93b.jpg       2    False  \n",
       "2  0002cc93b.jpg       3    False  \n",
       "3  0002cc93b.jpg       4    False  \n",
       "4  00031f466.jpg       1    False  "
      ]
     },
     "execution_count": 48,
     "metadata": {},
     "output_type": "execute_result"
    }
   ],
   "source": [
    "train_df.head()"
   ]
  },
  {
   "cell_type": "code",
   "execution_count": 49,
   "metadata": {},
   "outputs": [],
   "source": [
    "tmp = '0002cc93b.jpg'"
   ]
  },
  {
   "cell_type": "code",
   "execution_count": 67,
   "metadata": {},
   "outputs": [],
   "source": [
    "def predict_one(imageId):\n",
    "    \n",
    "    idx = mask_count_df[mask_count_df.ImageId==tmp].index\n",
    "    \n",
    "    generator = DataGenerator(\n",
    "        idx, \n",
    "        df=mask_count_df,\n",
    "        target_df=train_df,\n",
    "        batch_size=1, \n",
    "        n_classes=4\n",
    "    )\n",
    "    \n",
    "    return model.predict_generator(\n",
    "        generator, \n",
    "        workers=1,\n",
    "        verbose=1,\n",
    "        use_multiprocessing=False\n",
    "    )[0]"
   ]
  },
  {
   "cell_type": "code",
   "execution_count": 68,
   "metadata": {},
   "outputs": [
    {
     "name": "stdout",
     "output_type": "stream",
     "text": [
      "1/1 [==============================] - 0s 44ms/step\n"
     ]
    }
   ],
   "source": [
    "x = predict_one(tmp)"
   ]
  },
  {
   "cell_type": "code",
   "execution_count": 69,
   "metadata": {},
   "outputs": [
    {
     "data": {
      "text/plain": [
       "(256, 1600, 4)"
      ]
     },
     "execution_count": 69,
     "metadata": {},
     "output_type": "execute_result"
    }
   ],
   "source": [
    "x.shape"
   ]
  },
  {
   "cell_type": "code",
   "execution_count": null,
   "metadata": {},
   "outputs": [],
   "source": []
  },
  {
   "cell_type": "code",
   "execution_count": 76,
   "metadata": {},
   "outputs": [],
   "source": [
    "def mask2rle(img):\n",
    "    '''\n",
    "    img: numpy array, 1 - mask, 0 - background\n",
    "    Returns run length as string formated\n",
    "    '''\n",
    "    pixels= img.T.flatten()\n",
    "    pixels = np.concatenate([[0], pixels, [0]])\n",
    "    runs = np.where(pixels[1:] != pixels[:-1])[0] + 1\n",
    "    runs[1::2] -= runs[::2]\n",
    "    return ' '.join(str(x) for x in runs)\n",
    "\n",
    "def rle2mask(mask_rle, shape=(1600,256)):\n",
    "    '''\n",
    "    mask_rle: run-length as string formated (start length)\n",
    "    shape: (width,height) of array to return \n",
    "    Returns numpy array, 1 - mask, 0 - background\n",
    "\n",
    "    '''\n",
    "    s = mask_rle.split()\n",
    "    starts, lengths = [np.asarray(x, dtype=int) for x in (s[0:][::2], s[1:][::2])]\n",
    "    starts -= 1\n",
    "    ends = starts + lengths\n",
    "    img = np.zeros(shape[0]*shape[1], dtype=np.uint8)\n",
    "    for lo, hi in zip(starts, ends):\n",
    "        img[lo:hi] = 1\n",
    "    return img.reshape(shape).T"
   ]
  },
  {
   "cell_type": "code",
   "execution_count": 77,
   "metadata": {},
   "outputs": [],
   "source": [
    "def build_masks(rles, input_shape):\n",
    "    depth = len(rles)\n",
    "    height, width = input_shape\n",
    "    masks = np.zeros((height, width, depth))\n",
    "    \n",
    "    for i, rle in enumerate(rles):\n",
    "        if type(rle) is str:\n",
    "            masks[:, :, i] = rle2mask(rle, (width, height))\n",
    "    \n",
    "    return masks\n",
    "\n",
    "def build_rles(masks):\n",
    "    width, height, depth = masks.shape\n",
    "    \n",
    "    rles = [mask2rle(masks[:, :, i])\n",
    "            for i in range(depth)]\n",
    "    \n",
    "    return rles"
   ]
  },
  {
   "cell_type": "code",
   "execution_count": 78,
   "metadata": {},
   "outputs": [],
   "source": [
    "def read_image(imageId):\n",
    "    sample_image_df = train_df[train_df['ImageId'] == imageId]\n",
    "    sample_path = base_dir+\"train_images/{}\".format(sample_image_df['ImageId'].iloc[0])\n",
    "    sample_img = cv2.imread(sample_path, cv2.IMREAD_GRAYSCALE)\n",
    "    sample_rles = sample_image_df['EncodedPixels'].values\n",
    "    sample_masks = build_masks(sample_rles, input_shape=(256, 1600))\n",
    "    \n",
    "    return sample_img, sample_masks"
   ]
  },
  {
   "cell_type": "code",
   "execution_count": 79,
   "metadata": {},
   "outputs": [],
   "source": [
    "def show_images(image, masks):\n",
    "    \n",
    "    fig, axs = plt.subplots(5, figsize=(12, 12))\n",
    "    axs[0].imshow(image, cmap='gray')\n",
    "    axs[0].axis('off')\n",
    "    axs[0].set_title('Raw')\n",
    "\n",
    "    for i in range(4):\n",
    "        axs[i+1].imshow(masks[:, :, i])\n",
    "        axs[i+1].axis('off')\n",
    "        axs[i+1].set_title('Defect {}'.format(i+1))"
   ]
  },
  {
   "cell_type": "code",
   "execution_count": null,
   "metadata": {},
   "outputs": [],
   "source": []
  },
  {
   "cell_type": "code",
   "execution_count": null,
   "metadata": {},
   "outputs": [],
   "source": [
    "show_images(img,masks)"
   ]
  },
  {
   "cell_type": "code",
   "execution_count": 74,
   "metadata": {},
   "outputs": [],
   "source": [
    "def show_true_vs_pred(image, pred_masks, true_masks):\n",
    "    \n",
    "    fig,ax = plt.subplots()\n",
    "    fig.set_size_inches(15,5)\n",
    "    ax.imshow(image, cmap='gray')\n",
    "    \n",
    "    plt.show()\n",
    "    \n",
    "    fig, axs = plt.subplots((4,2), figsize=(12, 12))\n",
    "\n",
    "    for i in range(4):\n",
    "        axs[i][0].imshow(pred_masks[:, :, i])\n",
    "        axs[i][0].axis('off')\n",
    "        axs[i][0].set_title('Defect {} Predicted'.format(i+1))\n",
    "    \n",
    "        axs[i][1].imshow(true_masks[:, :, i])\n",
    "        axs[i][1].axis('off')\n",
    "        axs[i][1].set_title('Defect {} True'.format(i+1))\n",
    "    \n",
    "    plt.show()"
   ]
  },
  {
   "cell_type": "code",
   "execution_count": 80,
   "metadata": {},
   "outputs": [
    {
     "ename": "NameError",
     "evalue": "name 'imageId' is not defined",
     "output_type": "error",
     "traceback": [
      "\u001b[0;31m---------------------------------------------------------------------------\u001b[0m",
      "\u001b[0;31mNameError\u001b[0m                                 Traceback (most recent call last)",
      "\u001b[0;32m<ipython-input-80-6a2fc42bd256>\u001b[0m in \u001b[0;36m<module>\u001b[0;34m\u001b[0m\n\u001b[0;32m----> 1\u001b[0;31m \u001b[0mimg\u001b[0m\u001b[0;34m,\u001b[0m \u001b[0mtrue_masks\u001b[0m \u001b[0;34m=\u001b[0m \u001b[0mread_image\u001b[0m\u001b[0;34m(\u001b[0m\u001b[0mimageId\u001b[0m\u001b[0;34m)\u001b[0m\u001b[0;34m\u001b[0m\u001b[0m\n\u001b[0m",
      "\u001b[0;31mNameError\u001b[0m: name 'imageId' is not defined"
     ]
    }
   ],
   "source": [
    "img, true_masks = read_image(imageId)"
   ]
  },
  {
   "cell_type": "code",
   "execution_count": null,
   "metadata": {},
   "outputs": [],
   "source": [
    "show_true_vs_pred(img, )"
   ]
  },
  {
   "cell_type": "code",
   "execution_count": null,
   "metadata": {},
   "outputs": [],
   "source": []
  },
  {
   "cell_type": "code",
   "execution_count": null,
   "metadata": {},
   "outputs": [],
   "source": []
  },
  {
   "cell_type": "code",
   "execution_count": null,
   "metadata": {},
   "outputs": [],
   "source": []
  },
  {
   "cell_type": "code",
   "execution_count": null,
   "metadata": {},
   "outputs": [],
   "source": []
  },
  {
   "cell_type": "code",
   "execution_count": null,
   "metadata": {},
   "outputs": [],
   "source": []
  },
  {
   "cell_type": "code",
   "execution_count": null,
   "metadata": {},
   "outputs": [],
   "source": []
  },
  {
   "cell_type": "code",
   "execution_count": null,
   "metadata": {},
   "outputs": [],
   "source": []
  }
 ],
 "metadata": {
  "kernelspec": {
   "display_name": "Python 3",
   "language": "python",
   "name": "python3"
  },
  "language_info": {
   "codemirror_mode": {
    "name": "ipython",
    "version": 3
   },
   "file_extension": ".py",
   "mimetype": "text/x-python",
   "name": "python",
   "nbconvert_exporter": "python",
   "pygments_lexer": "ipython3",
   "version": "3.5.2"
  }
 },
 "nbformat": 4,
 "nbformat_minor": 4
}
